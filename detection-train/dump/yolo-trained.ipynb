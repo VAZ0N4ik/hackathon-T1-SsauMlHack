{
 "cells": [
  {
   "cell_type": "code",
   "execution_count": 1,
   "metadata": {},
   "outputs": [
    {
     "name": "stdout",
     "output_type": "stream",
     "text": [
      "\n",
      "image 1/1 c:\\Users\\vazon\\Desktop\\T1 Hackathon\\photo_2024-10-27_00-15-38.jpg: 480x640 15 Unsigneds, 3 Signeds, 133.7ms\n",
      "Speed: 7.5ms preprocess, 133.7ms inference, 0.0ms postprocess per image at shape (1, 3, 480, 640)\n",
      "Results saved to \u001b[1mruns\\detect\\predict2\u001b[0m\n"
     ]
    },
    {
     "data": {
      "text/plain": [
       "[ultralytics.engine.results.Results object with attributes:\n",
       " \n",
       " boxes: ultralytics.engine.results.Boxes object\n",
       " keypoints: None\n",
       " masks: None\n",
       " names: {0: 'Unsigned', 1: 'Signed'}\n",
       " obb: None\n",
       " orig_img: array([[[124, 168, 215],\n",
       "         [120, 164, 211],\n",
       "         [113, 160, 204],\n",
       "         ...,\n",
       "         [ 64, 110, 158],\n",
       "         [ 66, 112, 160],\n",
       "         [ 68, 114, 162]],\n",
       " \n",
       "        [[127, 172, 216],\n",
       "         [121, 166, 210],\n",
       "         [112, 160, 202],\n",
       "         ...,\n",
       "         [ 68, 114, 162],\n",
       "         [ 68, 114, 162],\n",
       "         [ 68, 114, 162]],\n",
       " \n",
       "        [[130, 176, 217],\n",
       "         [123, 169, 210],\n",
       "         [112, 161, 199],\n",
       "         ...,\n",
       "         [ 71, 117, 165],\n",
       "         [ 70, 116, 163],\n",
       "         [ 68, 114, 161]],\n",
       " \n",
       "        ...,\n",
       " \n",
       "        [[ 83, 122, 200],\n",
       "         [ 90, 129, 207],\n",
       "         [ 99, 138, 216],\n",
       "         ...,\n",
       "         [ 47,  95, 143],\n",
       "         [ 46,  95, 143],\n",
       "         [ 42,  94, 140]],\n",
       " \n",
       "        [[ 83, 124, 203],\n",
       "         [ 93, 135, 212],\n",
       "         [103, 144, 223],\n",
       "         ...,\n",
       "         [ 46,  94, 142],\n",
       "         [ 46,  95, 141],\n",
       "         [ 44,  94, 140]],\n",
       " \n",
       "        [[ 88, 131, 212],\n",
       "         [ 83, 126, 205],\n",
       "         [114, 157, 238],\n",
       "         ...,\n",
       "         [ 52,  96, 143],\n",
       "         [ 47,  91, 138],\n",
       "         [ 53,  97, 144]]], dtype=uint8)\n",
       " orig_shape: (961, 1280)\n",
       " path: 'c:\\\\Users\\\\vazon\\\\Desktop\\\\T1 Hackathon\\\\photo_2024-10-27_00-15-38.jpg'\n",
       " probs: None\n",
       " save_dir: 'runs\\\\detect\\\\predict2'\n",
       " speed: {'preprocess': 7.510900497436523, 'inference': 133.7454319000244, 'postprocess': 0.0}]"
      ]
     },
     "execution_count": 1,
     "metadata": {},
     "output_type": "execute_result"
    },
    {
     "ename": "",
     "evalue": "",
     "output_type": "error",
     "traceback": [
      "\u001b[1;31mThe Kernel crashed while executing code in the current cell or a previous cell. \n",
      "\u001b[1;31mPlease review the code in the cell(s) to identify a possible cause of the failure. \n",
      "\u001b[1;31mClick <a href='https://aka.ms/vscodeJupyterKernelCrash'>here</a> for more info. \n",
      "\u001b[1;31mView Jupyter <a href='command:jupyter.viewOutput'>log</a> for further details."
     ]
    }
   ],
   "source": [
    "import torch\n",
    "from ultralytics import YOLO\n",
    "\n",
    "PATH = 'last.pt'\n",
    "model = YOLO(PATH)\n",
    "\n",
    "model.predict(source = \"photo_2024-10-27_00-15-38.jpg\", show = True, save = True)"
   ]
  }
 ],
 "metadata": {
  "kernelspec": {
   "display_name": "Python 3",
   "language": "python",
   "name": "python3"
  },
  "language_info": {
   "codemirror_mode": {
    "name": "ipython",
    "version": 3
   },
   "file_extension": ".py",
   "mimetype": "text/x-python",
   "name": "python",
   "nbconvert_exporter": "python",
   "pygments_lexer": "ipython3",
   "version": "3.11.5"
  }
 },
 "nbformat": 4,
 "nbformat_minor": 2
}
