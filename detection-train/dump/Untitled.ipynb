{
 "cells": [
  {
   "cell_type": "code",
   "execution_count": 2,
   "id": "1bcf372f-4290-4f45-8208-7bd230629c49",
   "metadata": {},
   "outputs": [],
   "source": [
    "import cv2\n",
    "import numpy as np\n",
    "import pytesseract\n",
    "import os"
   ]
  },
  {
   "cell_type": "code",
   "execution_count": null,
   "id": "d13f7eae-61e7-4962-ac4a-5df15798870c",
   "metadata": {},
   "outputs": [],
   "source": [
    "pytesseract.pytesseract.tesseract_cmd = r'C:\\Program Files\\tesseract-ocr\\tesseract.exe'"
   ]
  },
  {
   "cell_type": "code",
   "execution_count": null,
   "id": "580a9f02-3dcc-497b-8fe5-5a3067d314d6",
   "metadata": {},
   "outputs": [],
   "source": [
    "def annotate_handwritten_text(image):\n",
    "    # Преобразование изображения в оттенки серого\n",
    "    gray = cv2.cvtColor(image, cv2.COLOR_BGR2GRAY)\n",
    "\n",
    "    # Шумоподавление\n",
    "    denoised = cv2.fastNlMeansDenoising(gray, None, 10, 7, 15)\n",
    "\n",
    "    # Пороговая бинаризация\n",
    "    thresh = cv2.adaptiveThreshold(denoised, 255, cv2.ADAPTIVE_THRESH_MEAN_C, cv2.THRESH_BINARY_INV, 31, 25)\n",
    "\n",
    "    # Нахождение контуров\n",
    "    contours, hierarchy = cv2.findContours(thresh, cv2.RETR_LIST, cv2.CHAIN_APPROX_NONE)\n",
    "\n",
    "    # Список для сохранения изображений с текстом\n",
    "    images_with_text = []\n",
    "\n",
    "    # Конфигурации для Tesseract\n",
    "    custom_config = r'--oem 3 --psm 6 -c tessedit_char_whitelist=абвгдеёжзийклмнопрстуфхцчшщъыьэюяАБВГДЕЁЖЗИЙКЛМНОПРСТУФХЦЧШЩЪЫЬЭЮЯ0123456789 -l rus --dpi 300'\n",
    "\n",
    "    for contour in contours:\n",
    "        # Ограничивающий прямоугольник\n",
    "        x, y, w, h = cv2.boundingRect(contour)\n",
    "\n",
    "        # Отсекаем область интереса\n",
    "        roi = image[y:y + h, x:x + w]\n",
    "\n",
    "        # Распознавание текста\n",
    "        text = pytesseract.image_to_string(roi, config=custom_config)\n",
    "\n",
    "        # Если текст найден, добавляем область в список\n",
    "        if text.strip():\n",
    "            images_with_text.append(roi)\n",
    "\n",
    "    # Возвращаем список найденных изображений с текстом\n",
    "    return images_with_text"
   ]
  },
  {
   "cell_type": "code",
   "execution_count": null,
   "id": "376b88ad-0295-4a65-9029-18076483ed4a",
   "metadata": {},
   "outputs": [],
   "source": [
    "folder_path = \"photos\"\n",
    "output_folder = \"tagged_photos\"\n",
    "image_list = []"
   ]
  },
  {
   "cell_type": "code",
   "execution_count": null,
   "id": "25bff0e6-fdc5-4cc3-bcb1-db2d2ffc843a",
   "metadata": {},
   "outputs": [],
   "source": [
    "#добавляем фото и название в список\n",
    "for filename in os.listdir(folder_path):\n",
    "    img = cv2.imread(os.path.join(folder_path, filename))\n",
    "    image_list.append((filename, img))"
   ]
  },
  {
   "cell_type": "code",
   "execution_count": null,
   "id": "49085120-52d3-4143-8ef1-3e43b553c09b",
   "metadata": {},
   "outputs": [],
   "source": [
    "#Сохраняем новые фотографии\n",
    "for filename, img in image_list:\n",
    "    box_images = annotate_handwritten_text(img)\n",
    "    k = 0\n",
    "    for i in box_images:\n",
    "        k +=1\n",
    "        output_path = os.path.join(output_folder, filename + str(k))\n",
    "        cv2.imwrite(output_path, i)"
   ]
  },
  {
   "cell_type": "code",
   "execution_count": null,
   "id": "bffc96b0-eab8-4b7c-8ba1-3138cab817c7",
   "metadata": {},
   "outputs": [],
   "source": []
  }
 ],
 "metadata": {
  "kernelspec": {
   "display_name": "Python 3 (ipykernel)",
   "language": "python",
   "name": "python3"
  },
  "language_info": {
   "codemirror_mode": {
    "name": "ipython",
    "version": 3
   },
   "file_extension": ".py",
   "mimetype": "text/x-python",
   "name": "python",
   "nbconvert_exporter": "python",
   "pygments_lexer": "ipython3",
   "version": "3.9.20"
  }
 },
 "nbformat": 4,
 "nbformat_minor": 5
}
