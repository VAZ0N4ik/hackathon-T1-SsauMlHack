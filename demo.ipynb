{
 "cells": [
  {
   "cell_type": "code",
   "execution_count": null,
   "metadata": {},
   "outputs": [],
   "source": [
    "# установка зависимостей (при первом запуске - обязательно)\n",
    "\n",
    "%pip install ultralytics\n",
    "%pip install Pillow"
   ]
  },
  {
   "cell_type": "markdown",
   "metadata": {},
   "source": [
    "# 1 - Детектинг Рукописных сегментов\n",
    "\n",
    "Тестирование происходит на примере одного изображения, необходимо переопределить путь к тестовому изображению вручную"
   ]
  },
  {
   "cell_type": "code",
   "execution_count": 2,
   "metadata": {},
   "outputs": [],
   "source": [
    "# Имя директории\n",
    "urimagedirectory=\".../test_images\"\n",
    "\n",
    "# Путь к файлу\n",
    "#img_path = f\"ur_img_dir{filename}\""
   ]
  },
  {
   "cell_type": "code",
   "execution_count": 3,
   "metadata": {},
   "outputs": [],
   "source": [
    "# Имя файла\n",
    "from pathlib import Path\n",
    "arrIm=[]\n",
    "for image_file in sorted(Path(urimagedirectory).resolve().glob(\"*.png\")):\n",
    "    arrIm.append(image_file)  \n",
    "for image_file in sorted(Path(urimagedirectory).resolve().glob(\"*.jpg\")):\n",
    "    arrIm.append(image_file)  "
   ]
  },
  {
   "cell_type": "code",
   "execution_count": 4,
   "metadata": {},
   "outputs": [
    {
     "name": "stdout",
     "output_type": "stream",
     "text": [
      "\n",
      "image 1/1 C:\\Users\\vazon\\Desktop\\T1 Hackathon\\git\\test_images\\4_t_5.png: 480x640 53 Unsigneds, 208.5ms\n",
      "Speed: 16.2ms preprocess, 208.5ms inference, 1.4ms postprocess per image at shape (1, 3, 480, 640)\n",
      "Results saved to \u001b[1mdetected\u001b[0m\n",
      "\n",
      "image 1/1 C:\\Users\\vazon\\Desktop\\T1 Hackathon\\git\\test_images\\photo_2024-10-27_00-15-38.jpg: 480x640 20 Unsigneds, 1 Signed, 118.6ms\n",
      "Speed: 0.0ms preprocess, 118.6ms inference, 0.0ms postprocess per image at shape (1, 3, 480, 640)\n",
      "Results saved to \u001b[1mdetected\u001b[0m\n"
     ]
    }
   ],
   "source": [
    "from ultralytics import YOLO\n",
    "\n",
    "PATH = 'models/best-unprocessed.pt'\n",
    "model = YOLO(PATH)\n",
    "resArr=[]\n",
    "for image_path in arrIm:\n",
    "    res = model.predict(source=image_path, project='.', name='detected', exist_ok=True, save=True, show=False, show_labels=True, show_conf=False, conf=0.3)\n",
    "    resArr.append(res)"
   ]
  },
  {
   "cell_type": "markdown",
   "metadata": {},
   "source": [
    "## 2 - Кроппинг рукописных сегментов"
   ]
  },
  {
   "cell_type": "code",
   "execution_count": 5,
   "metadata": {},
   "outputs": [
    {
     "name": "stdout",
     "output_type": "stream",
     "text": [
      "[[<PIL.Image.Image image mode=RGBA size=28x18 at 0x1940A46EFD0>, <PIL.Image.Image image mode=RGBA size=36x22 at 0x1940A24C050>, <PIL.Image.Image image mode=RGBA size=156x38 at 0x19478402B10>, <PIL.Image.Image image mode=RGBA size=28x18 at 0x194783FCD90>, <PIL.Image.Image image mode=RGBA size=54x20 at 0x194783FED50>, <PIL.Image.Image image mode=RGBA size=174x38 at 0x194780541D0>, <PIL.Image.Image image mode=RGBA size=130x34 at 0x19478057210>, <PIL.Image.Image image mode=RGBA size=168x48 at 0x194783E3F90>, <PIL.Image.Image image mode=RGBA size=28x14 at 0x19478058890>, <PIL.Image.Image image mode=RGBA size=116x26 at 0x194780572D0>, <PIL.Image.Image image mode=RGBA size=32x18 at 0x19478058650>, <PIL.Image.Image image mode=RGBA size=62x24 at 0x1940A083990>, <PIL.Image.Image image mode=RGBA size=136x40 at 0x1940A4804D0>, <PIL.Image.Image image mode=RGBA size=126x40 at 0x1940A480590>, <PIL.Image.Image image mode=RGBA size=60x24 at 0x1940A480650>, <PIL.Image.Image image mode=RGBA size=130x40 at 0x1940A480710>, <PIL.Image.Image image mode=RGBA size=38x12 at 0x1940A4807D0>, <PIL.Image.Image image mode=RGBA size=36x18 at 0x1940A480890>, <PIL.Image.Image image mode=RGBA size=128x26 at 0x1940A480950>, <PIL.Image.Image image mode=RGBA size=36x18 at 0x1940A480A10>, <PIL.Image.Image image mode=RGBA size=28x14 at 0x1940A480AD0>, <PIL.Image.Image image mode=RGBA size=186x24 at 0x1940A480B90>, <PIL.Image.Image image mode=RGBA size=88x20 at 0x1940A480C50>, <PIL.Image.Image image mode=RGBA size=236x32 at 0x1940A480D10>, <PIL.Image.Image image mode=RGBA size=44x18 at 0x1940A480DD0>, <PIL.Image.Image image mode=RGBA size=218x34 at 0x1940A480E90>, <PIL.Image.Image image mode=RGBA size=30x16 at 0x1940A480F50>, <PIL.Image.Image image mode=RGBA size=132x46 at 0x1940A481010>, <PIL.Image.Image image mode=RGBA size=30x22 at 0x1940A4810D0>, <PIL.Image.Image image mode=RGBA size=46x14 at 0x1940A481190>, <PIL.Image.Image image mode=RGBA size=20x20 at 0x1940A481250>, <PIL.Image.Image image mode=RGBA size=136x32 at 0x1940A481310>, <PIL.Image.Image image mode=RGBA size=52x16 at 0x1940A4813D0>, <PIL.Image.Image image mode=RGBA size=26x12 at 0x1940A481490>, <PIL.Image.Image image mode=RGBA size=114x24 at 0x1940A481550>, <PIL.Image.Image image mode=RGBA size=58x22 at 0x1940A481610>, <PIL.Image.Image image mode=RGBA size=28x16 at 0x1940A4816D0>, <PIL.Image.Image image mode=RGBA size=52x20 at 0x1940A481790>, <PIL.Image.Image image mode=RGBA size=128x16 at 0x1940A481850>, <PIL.Image.Image image mode=RGBA size=142x22 at 0x1940A481910>, <PIL.Image.Image image mode=RGBA size=142x22 at 0x1940A4819D0>, <PIL.Image.Image image mode=RGBA size=26x20 at 0x1940A481A90>, <PIL.Image.Image image mode=RGBA size=158x34 at 0x1940A481B50>, <PIL.Image.Image image mode=RGBA size=200x24 at 0x1940A481C10>, <PIL.Image.Image image mode=RGBA size=240x38 at 0x1940A481CD0>, <PIL.Image.Image image mode=RGBA size=124x64 at 0x1940A481D90>, <PIL.Image.Image image mode=RGBA size=144x26 at 0x1940A481E50>, <PIL.Image.Image image mode=RGBA size=78x16 at 0x1940A481F10>, <PIL.Image.Image image mode=RGBA size=18x14 at 0x1940A481FD0>, <PIL.Image.Image image mode=RGBA size=36x14 at 0x1940A482090>, <PIL.Image.Image image mode=RGBA size=54x12 at 0x1940A482150>, <PIL.Image.Image image mode=RGBA size=134x30 at 0x1940A482210>, <PIL.Image.Image image mode=RGBA size=112x26 at 0x1940A4822D0>], [<PIL.Image.Image image mode=RGB size=68x32 at 0x1940A454C90>, <PIL.Image.Image image mode=RGB size=148x36 at 0x1940A4823D0>, <PIL.Image.Image image mode=RGB size=182x60 at 0x1940A482650>, <PIL.Image.Image image mode=RGB size=80x22 at 0x1940A4826D0>, <PIL.Image.Image image mode=RGB size=42x20 at 0x1940A482790>, <PIL.Image.Image image mode=RGB size=78x28 at 0x1940A482890>, <PIL.Image.Image image mode=RGB size=46x20 at 0x1940A482950>, <PIL.Image.Image image mode=RGB size=158x30 at 0x1940A482A10>, <PIL.Image.Image image mode=RGB size=26x22 at 0x1940A482AD0>, <PIL.Image.Image image mode=RGB size=58x26 at 0x1940A482850>, <PIL.Image.Image image mode=RGB size=94x24 at 0x1940A482C10>, <PIL.Image.Image image mode=RGB size=144x32 at 0x1940A482CD0>, <PIL.Image.Image image mode=RGB size=30x14 at 0x1940A482D90>, <PIL.Image.Image image mode=RGB size=80x18 at 0x1940A482E50>, <PIL.Image.Image image mode=RGB size=40x24 at 0x1940A482F10>, <PIL.Image.Image image mode=RGB size=118x28 at 0x1940A482FD0>, <PIL.Image.Image image mode=RGB size=86x30 at 0x1940A483090>, <PIL.Image.Image image mode=RGB size=34x20 at 0x1940A483150>, <PIL.Image.Image image mode=RGB size=58x20 at 0x1940A483210>, <PIL.Image.Image image mode=RGB size=124x24 at 0x1940A4832D0>]]\n",
      "[False, True]\n",
      "73\n"
     ]
    }
   ],
   "source": [
    "from PIL import *\n",
    "def extract_rectangles(image, rectangles):\n",
    "    extracted_images = []\n",
    "    \n",
    "    for i in rectangles:\n",
    "        x_ = i[0]\n",
    "        y_ = i[1]\n",
    "        w = i[2]\n",
    "        h = i[3]\n",
    "        x1 = x_ - w// 2\n",
    "        y1 = y_ - h// 2\n",
    "        x2 = x_ + w // 2\n",
    "        y2 = y_ + h // 2\n",
    "            \n",
    "        cropped_img = image.crop((x1, y1, x2, y2))\n",
    "        extracted_images.append(cropped_img)\n",
    "\n",
    "    return extracted_images\n",
    "rectImages=[]\n",
    "signImages=[]\n",
    "\n",
    "# Обработка изображений и извлечение объектов\n",
    "for index, img_path in enumerate(arrIm):\n",
    "    image = Image.open(img_path)  # Открытие изображения\n",
    "    array_of_boxes = []\n",
    "    sign = False  # Сброс флага на каждом изображении\n",
    "\n",
    "    # Получение результатов для текущего изображения\n",
    "    results = resArr[index]  \n",
    "    if results:  # Проверка, что результаты не пустые\n",
    "        det = results[0]  # Первый элемент списка с результатами\n",
    "    \n",
    "        for obj in det.boxes:  # Используем det.boxes для доступа к объектам\n",
    "            obj_id = int(obj.cls[0])  # Получение ID объекта\n",
    "            if obj_id == 1:\n",
    "                sign = True  # Установка флага True, если объект с ID = 1 найден\n",
    "\n",
    "            for b in obj.xywh:  # Извлечение боксов\n",
    "                if obj_id == 0:  # Сохранение только боксов с ID = 0\n",
    "                    array_of_boxes.append(b.tolist())\n",
    "\n",
    "    signImages.append(sign)  # Сохранение True/False в signImages\n",
    "    ans = extract_rectangles(image, array_of_boxes)  # Извлечение сегментированных изображений\n",
    "    rectImages.append(ans)  # Добавление в rectImages\n",
    "c=0\n",
    "print(rectImages)\n",
    "for i in rectImages:\n",
    "    for j in i:\n",
    "        c+=1\n",
    "print(signImages)\n",
    "print(c)\n",
    "\n"
   ]
  }
 ],
 "metadata": {
  "kernelspec": {
   "display_name": "Python 3",
   "language": "python",
   "name": "python3"
  },
  "language_info": {
   "codemirror_mode": {
    "name": "ipython",
    "version": 3
   },
   "file_extension": ".py",
   "mimetype": "text/x-python",
   "name": "python",
   "nbconvert_exporter": "python",
   "pygments_lexer": "ipython3",
   "version": "3.11.5"
  }
 },
 "nbformat": 4,
 "nbformat_minor": 2
}
